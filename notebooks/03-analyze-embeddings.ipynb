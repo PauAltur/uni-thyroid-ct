{
 "cells": [
  {
   "cell_type": "markdown",
   "id": "d7c18b72",
   "metadata": {},
   "source": [
    "# Analyzing Embeddings from the Pipeline\n",
    "\n",
    "This notebook demonstrates how to load the HDF5 embeddings and metadata, and perform basic exploratory analysis."
   ]
  },
  {
   "cell_type": "code",
   "execution_count": 1,
   "id": "70b3363a",
   "metadata": {},
   "outputs": [],
   "source": [
    "import h5py\n",
    "import numpy as np\n",
    "import pandas as pd\n",
    "import matplotlib.pyplot as plt\n",
    "import seaborn as sns\n",
    "from pathlib import Path\n",
    "from sklearn.decomposition import PCA\n",
    "from sklearn.manifold import TSNE\n",
    "\n",
    "# Set style\n",
    "sns.set_style(\"whitegrid\")\n",
    "plt.rcParams[\"figure.figsize\"] = (12, 8)\n",
    "plt.rcParams[\"figure.dpi\"] = 100"
   ]
  },
  {
   "cell_type": "markdown",
   "id": "f8ea65c0",
   "metadata": {},
   "source": [
    "## 1. Load Embeddings and Metadata"
   ]
  },
  {
   "cell_type": "code",
   "execution_count": 8,
   "id": "5a43c75f",
   "metadata": {},
   "outputs": [
    {
     "name": "stdout",
     "output_type": "stream",
     "text": [
      "Loading embeddings...\n",
      "<KeysViewHDF5 []>\n"
     ]
    }
   ],
   "source": [
    "# Path to your HDF5 file\n",
    "h5_path = \"T:/users/altp/data/embeddings/thyroid_embeddings.h5\"\n",
    "\n",
    "print(\"Loading embeddings...\")\n",
    "with h5py.File(h5_path, \"r\") as f:\n",
    "    print(f.keys())"
   ]
  },
  {
   "cell_type": "code",
   "execution_count": null,
   "id": "26e769c7",
   "metadata": {},
   "outputs": [],
   "source": []
  },
  {
   "cell_type": "markdown",
   "id": "287aa0af",
   "metadata": {},
   "source": [
    "## 2. Data Summary"
   ]
  },
  {
   "cell_type": "code",
   "execution_count": null,
   "id": "27386f46",
   "metadata": {},
   "outputs": [],
   "source": [
    "print(\"=\" * 80)\n",
    "print(\"Dataset Summary\")\n",
    "print(\"=\" * 80)\n",
    "\n",
    "# Per-sample counts\n",
    "sample_counts = metadata[\"sample_code\"].value_counts()\n",
    "print(f\"\\nPatches per sample:\")\n",
    "print(sample_counts.head(10))\n",
    "print(f\"\\nStats: min={sample_counts.min()}, max={sample_counts.max()}, mean={sample_counts.mean():.1f}\")\n",
    "\n",
    "# Tissue distribution\n",
    "print(f\"\\nTissue content:\")\n",
    "print(f\"  Mean: {metadata['tissue_pct'].mean():.1f}%\")\n",
    "print(f\"  Median: {metadata['tissue_pct'].median():.1f}%\")\n",
    "print(f\"  Min: {metadata['tissue_pct'].min():.1f}%\")\n",
    "print(f\"  Max: {metadata['tissue_pct'].max():.1f}%\")\n",
    "\n",
    "# Invasion distribution\n",
    "print(f\"\\nInvasion statistics:\")\n",
    "print(f\"  Patches with invasion: {metadata['has_invasion'].sum():,} ({metadata['has_invasion'].mean()*100:.1f}%)\")\n",
    "print(f\"\\nInvasion types:\")\n",
    "print(metadata[\"invasion_type\"].value_counts().sort_index())"
   ]
  },
  {
   "cell_type": "markdown",
   "id": "280ed5de",
   "metadata": {},
   "source": [
    "## 3. Visualization: Metadata Distributions"
   ]
  },
  {
   "cell_type": "code",
   "execution_count": null,
   "id": "56fba1b0",
   "metadata": {},
   "outputs": [],
   "source": [
    "fig, axes = plt.subplots(2, 3, figsize=(15, 10))\n",
    "\n",
    "# Tissue percentage histogram\n",
    "axes[0, 0].hist(metadata[\"tissue_pct\"], bins=50, edgecolor=\"black\", alpha=0.7)\n",
    "axes[0, 0].set_xlabel(\"Tissue Percentage\")\n",
    "axes[0, 0].set_ylabel(\"Count\")\n",
    "axes[0, 0].set_title(\"Distribution of Tissue Content\")\n",
    "\n",
    "# Invasion percentage histogram (only patches with invasion)\n",
    "invasion_patches = metadata[metadata[\"has_invasion\"]]\n",
    "if len(invasion_patches) > 0:\n",
    "    axes[0, 1].hist(invasion_patches[\"invasion_pct\"], bins=50, edgecolor=\"black\", alpha=0.7, color=\"orange\")\n",
    "    axes[0, 1].set_xlabel(\"Invasion Percentage\")\n",
    "    axes[0, 1].set_ylabel(\"Count\")\n",
    "    axes[0, 1].set_title(\"Distribution of Invasion Content\")\n",
    "else:\n",
    "    axes[0, 1].text(0.5, 0.5, \"No invasion patches\", ha=\"center\", va=\"center\")\n",
    "    axes[0, 1].set_title(\"Distribution of Invasion Content\")\n",
    "\n",
    "# Invasion type distribution\n",
    "invasion_counts = metadata[\"invasion_type\"].value_counts().sort_index()\n",
    "axes[0, 2].bar(invasion_counts.index, invasion_counts.values, edgecolor=\"black\", alpha=0.7, color=\"red\")\n",
    "axes[0, 2].set_xlabel(\"Invasion Type\")\n",
    "axes[0, 2].set_ylabel(\"Count\")\n",
    "axes[0, 2].set_title(\"Invasion Type Distribution\")\n",
    "axes[0, 2].set_xticks(invasion_counts.index)\n",
    "\n",
    "# Spatial distribution (normalized coordinates)\n",
    "axes[1, 0].scatter(\n",
    "    metadata[\"coord_h_norm\"],\n",
    "    metadata[\"coord_w_norm\"],\n",
    "    c=metadata[\"tissue_pct\"],\n",
    "    cmap=\"viridis\",\n",
    "    alpha=0.3,\n",
    "    s=1,\n",
    ")\n",
    "axes[1, 0].set_xlabel(\"Normalized Height\")\n",
    "axes[1, 0].set_ylabel(\"Normalized Width\")\n",
    "axes[1, 0].set_title(\"Spatial Distribution (colored by tissue %)\")\n",
    "axes[1, 0].set_aspect(\"equal\")\n",
    "\n",
    "# Depth distribution\n",
    "axes[1, 1].hist(metadata[\"coord_d_norm\"], bins=50, edgecolor=\"black\", alpha=0.7, color=\"green\")\n",
    "axes[1, 1].set_xlabel(\"Normalized Depth\")\n",
    "axes[1, 1].set_ylabel(\"Count\")\n",
    "axes[1, 1].set_title(\"Depth Distribution\")\n",
    "\n",
    "# Patches per sample\n",
    "top_samples = sample_counts.head(15)\n",
    "axes[1, 2].barh(range(len(top_samples)), top_samples.values)\n",
    "axes[1, 2].set_yticks(range(len(top_samples)))\n",
    "axes[1, 2].set_yticklabels([s[:15] + \"...\" if len(s) > 15 else s for s in top_samples.index])\n",
    "axes[1, 2].set_xlabel(\"Number of Patches\")\n",
    "axes[1, 2].set_title(\"Top 15 Samples by Patch Count\")\n",
    "axes[1, 2].invert_yaxis()\n",
    "\n",
    "plt.tight_layout()\n",
    "plt.savefig(\"embedding_metadata_distributions.png\", dpi=150, bbox_inches=\"tight\")\n",
    "plt.show()"
   ]
  },
  {
   "cell_type": "markdown",
   "id": "888bbe05",
   "metadata": {},
   "source": [
    "## 4. Dimensionality Reduction: PCA"
   ]
  },
  {
   "cell_type": "code",
   "execution_count": null,
   "id": "c68c5421",
   "metadata": {},
   "outputs": [],
   "source": [
    "print(\"=\" * 80)\n",
    "print(\"Computing PCA...\")\n",
    "print(\"=\" * 80)\n",
    "\n",
    "# Subsample for faster computation (optional)\n",
    "n_samples_pca = min(10000, len(embeddings))\n",
    "indices = np.random.choice(len(embeddings), n_samples_pca, replace=False)\n",
    "\n",
    "embeddings_subset = embeddings[indices]\n",
    "metadata_subset = metadata.iloc[indices].copy()\n",
    "\n",
    "# Compute PCA\n",
    "pca = PCA(n_components=50)\n",
    "embeddings_pca = pca.fit_transform(embeddings_subset)\n",
    "\n",
    "print(f\"Explained variance (first 10 components): {pca.explained_variance_ratio_[:10].sum():.1%}\")"
   ]
  },
  {
   "cell_type": "code",
   "execution_count": null,
   "id": "f833322c",
   "metadata": {},
   "outputs": [],
   "source": [
    "# Visualize PCA\n",
    "fig, axes = plt.subplots(1, 3, figsize=(18, 5))\n",
    "\n",
    "# PC1 vs PC2, colored by tissue percentage\n",
    "scatter1 = axes[0].scatter(\n",
    "    embeddings_pca[:, 0],\n",
    "    embeddings_pca[:, 1],\n",
    "    c=metadata_subset[\"tissue_pct\"],\n",
    "    cmap=\"viridis\",\n",
    "    alpha=0.5,\n",
    "    s=10,\n",
    ")\n",
    "axes[0].set_xlabel(f\"PC1 ({pca.explained_variance_ratio_[0]:.1%})\")\n",
    "axes[0].set_ylabel(f\"PC2 ({pca.explained_variance_ratio_[1]:.1%})\")\n",
    "axes[0].set_title(\"PCA: Colored by Tissue %\")\n",
    "plt.colorbar(scatter1, ax=axes[0], label=\"Tissue %\")\n",
    "\n",
    "# PC1 vs PC2, colored by invasion presence\n",
    "scatter2 = axes[1].scatter(\n",
    "    embeddings_pca[:, 0],\n",
    "    embeddings_pca[:, 1],\n",
    "    c=metadata_subset[\"has_invasion\"].astype(int),\n",
    "    cmap=\"RdYlGn_r\",\n",
    "    alpha=0.5,\n",
    "    s=10,\n",
    ")\n",
    "axes[1].set_xlabel(f\"PC1 ({pca.explained_variance_ratio_[0]:.1%})\")\n",
    "axes[1].set_ylabel(f\"PC2 ({pca.explained_variance_ratio_[1]:.1%})\")\n",
    "axes[1].set_title(\"PCA: Colored by Invasion Presence\")\n",
    "plt.colorbar(scatter2, ax=axes[1], label=\"Has Invasion\", ticks=[0, 1])\n",
    "\n",
    "# PC1 vs PC2, colored by invasion type\n",
    "scatter3 = axes[2].scatter(\n",
    "    embeddings_pca[:, 0],\n",
    "    embeddings_pca[:, 1],\n",
    "    c=metadata_subset[\"invasion_type\"],\n",
    "    cmap=\"tab10\",\n",
    "    alpha=0.5,\n",
    "    s=10,\n",
    ")\n",
    "axes[2].set_xlabel(f\"PC1 ({pca.explained_variance_ratio_[0]:.1%})\")\n",
    "axes[2].set_ylabel(f\"PC2 ({pca.explained_variance_ratio_[1]:.1%})\")\n",
    "axes[2].set_title(\"PCA: Colored by Invasion Type\")\n",
    "plt.colorbar(scatter3, ax=axes[2], label=\"Invasion Type\")\n",
    "\n",
    "plt.tight_layout()\n",
    "plt.savefig(\"embedding_pca.png\", dpi=150, bbox_inches=\"tight\")\n",
    "plt.show()"
   ]
  },
  {
   "cell_type": "markdown",
   "id": "7266aade",
   "metadata": {},
   "source": [
    "## 5. Sample-Level Analysis"
   ]
  },
  {
   "cell_type": "code",
   "execution_count": null,
   "id": "7802f12f",
   "metadata": {},
   "outputs": [],
   "source": [
    "print(\"=\" * 80)\n",
    "print(\"Sample-Level Analysis\")\n",
    "print(\"=\" * 80)\n",
    "\n",
    "# Aggregate by sample\n",
    "sample_stats = metadata.groupby(\"sample_code\").agg({\n",
    "    \"tissue_pct\": [\"mean\", \"std\", \"min\", \"max\"],\n",
    "    \"has_invasion\": \"mean\",  # Fraction of patches with invasion\n",
    "    \"invasion_type\": \"max\",  # Maximum invasion type seen\n",
    "    \"invasion_pct\": \"mean\",\n",
    "}).round(2)\n",
    "\n",
    "sample_stats.columns = [\"_\".join(col).strip() for col in sample_stats.columns.values]\n",
    "sample_stats[\"num_patches\"] = metadata.groupby(\"sample_code\").size()\n",
    "\n",
    "print(\"\\nSample statistics:\")\n",
    "print(sample_stats.head(10))\n",
    "\n",
    "# Save to CSV\n",
    "sample_stats.to_csv(\"sample_level_statistics.csv\")\n",
    "print(f\"\\nSaved sample statistics to: sample_level_statistics.csv\")"
   ]
  },
  {
   "cell_type": "code",
   "execution_count": null,
   "id": "6b3abcb9",
   "metadata": {},
   "outputs": [],
   "source": [
    "# Visualize sample-level invasion rates\n",
    "fig, axes = plt.subplots(1, 2, figsize=(14, 5))\n",
    "\n",
    "# Invasion rate per sample\n",
    "invasion_rate = sample_stats[\"has_invasion_mean\"].sort_values(ascending=False)\n",
    "axes[0].barh(range(min(20, len(invasion_rate))), invasion_rate.head(20).values)\n",
    "axes[0].set_yticks(range(min(20, len(invasion_rate))))\n",
    "axes[0].set_yticklabels([s[:20] + \"...\" if len(s) > 20 else s for s in invasion_rate.head(20).index])\n",
    "axes[0].set_xlabel(\"Fraction of Patches with Invasion\")\n",
    "axes[0].set_title(\"Top 20 Samples by Invasion Rate\")\n",
    "axes[0].invert_yaxis()\n",
    "\n",
    "# Scatter: tissue % vs invasion rate\n",
    "axes[1].scatter(\n",
    "    sample_stats[\"tissue_pct_mean\"],\n",
    "    sample_stats[\"has_invasion_mean\"],\n",
    "    s=sample_stats[\"num_patches\"] / 10,\n",
    "    alpha=0.6,\n",
    "    edgecolors=\"black\",\n",
    ")\n",
    "axes[1].set_xlabel(\"Mean Tissue %\")\n",
    "axes[1].set_ylabel(\"Fraction with Invasion\")\n",
    "axes[1].set_title(\"Tissue Content vs Invasion Rate\\n(size = # patches)\")\n",
    "\n",
    "plt.tight_layout()\n",
    "plt.savefig(\"sample_level_analysis.png\", dpi=150, bbox_inches=\"tight\")\n",
    "plt.show()"
   ]
  },
  {
   "cell_type": "markdown",
   "id": "ae7fdc89",
   "metadata": {},
   "source": [
    "## 6. Export Specific Subsets"
   ]
  },
  {
   "cell_type": "code",
   "execution_count": null,
   "id": "d321b431",
   "metadata": {},
   "outputs": [],
   "source": [
    "# Example: Save embeddings for patches with high invasion\n",
    "high_invasion_mask = metadata[\"invasion_pct\"] > 50.0\n",
    "high_invasion_embeddings = embeddings[high_invasion_mask]\n",
    "high_invasion_metadata = metadata[high_invasion_mask]\n",
    "\n",
    "print(f\"\\nHigh invasion patches (>50%): {len(high_invasion_embeddings):,}\")\n",
    "\n",
    "# Save as numpy arrays\n",
    "np.save(\"high_invasion_embeddings.npy\", high_invasion_embeddings)\n",
    "high_invasion_metadata.to_csv(\"high_invasion_metadata.csv\", index=False)\n",
    "\n",
    "print(\"Saved high invasion subset to:\")\n",
    "print(\"  - high_invasion_embeddings.npy\")\n",
    "print(\"  - high_invasion_metadata.csv\")"
   ]
  },
  {
   "cell_type": "code",
   "execution_count": null,
   "id": "23b955f2",
   "metadata": {},
   "outputs": [],
   "source": [
    "print(\"=\" * 80)\n",
    "print(\"Analysis complete!\")\n",
    "print(\"=\" * 80)"
   ]
  }
 ],
 "metadata": {
  "kernelspec": {
   "display_name": ".venv",
   "language": "python",
   "name": "python3"
  },
  "language_info": {
   "codemirror_mode": {
    "name": "ipython",
    "version": 3
   },
   "file_extension": ".py",
   "mimetype": "text/x-python",
   "name": "python",
   "nbconvert_exporter": "python",
   "pygments_lexer": "ipython3",
   "version": "3.12.10"
  }
 },
 "nbformat": 4,
 "nbformat_minor": 5
}
